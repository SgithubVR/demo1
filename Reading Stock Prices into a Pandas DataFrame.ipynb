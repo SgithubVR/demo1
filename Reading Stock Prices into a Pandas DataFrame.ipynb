{
 "cells": [
  {
   "cell_type": "code",
   "execution_count": 19,
   "metadata": {
    "pycharm": {
     "is_executing": true
    }
   },
   "outputs": [],
   "source": [
    "import requests\n",
    "#heloguys"
   ]
  },
  {
   "cell_type": "code",
   "execution_count": null,
   "metadata": {},
   "outputs": [],
   "source": []
  },
  {
   "cell_type": "markdown",
   "metadata": {},
   "source": [
    "## First we get the data from the server, see https://www.alphavantage.co/documentation/\n",
    "## We use requests.get() to retrieve it"
   ]
  },
  {
   "cell_type": "code",
   "execution_count": 20,
   "metadata": {},
   "outputs": [],
   "source": [
    "response = requests.get(\"https://www.alphavantage.co/query?function=TIME_SERIES_INTRADAY&symbol=MSFT&interval=5min&outputsize=full&apikey=demo\")\n",
    "\n",
    "# Since we are retrieving stuff from a web service, it's a good idea to check for the return status code\n",
    "# See: https://en.wikipedia.org/wiki/List_of_HTTP_status_codes\n",
    "if response.status_code != 200:\n",
    "    raise ValueError(\"Could not retrieve data, code:\", response.status_code)\n",
    "\n",
    "# The service sends JSON data, we parse that into a Python datastructure    \n",
    "raw_data = response.json()"
   ]
  },
  {
   "cell_type": "code",
   "execution_count": 21,
   "metadata": {},
   "outputs": [
    {
     "data": {
      "text/plain": [
       "dict"
      ]
     },
     "execution_count": 21,
     "metadata": {},
     "output_type": "execute_result"
    }
   ],
   "source": [
    "# Let's look at the raw data\n",
    "type(raw_data)"
   ]
  },
  {
   "cell_type": "code",
   "execution_count": 22,
   "metadata": {},
   "outputs": [
    {
     "data": {
      "text/plain": [
       "dict_keys(['Meta Data', 'Time Series (5min)'])"
      ]
     },
     "execution_count": 22,
     "metadata": {},
     "output_type": "execute_result"
    }
   ],
   "source": [
    "# So it's a dict. what are the keys?\n",
    "raw_data.keys()"
   ]
  },
  {
   "cell_type": "code",
   "execution_count": 23,
   "metadata": {},
   "outputs": [
    {
     "data": {
      "text/plain": [
       "{'1. Information': 'Intraday (5min) open, high, low, close prices and volume',\n",
       " '2. Symbol': 'MSFT',\n",
       " '3. Last Refreshed': '2022-11-09 19:50:00',\n",
       " '4. Interval': '5min',\n",
       " '5. Output Size': 'Full size',\n",
       " '6. Time Zone': 'US/Eastern'}"
      ]
     },
     "execution_count": 23,
     "metadata": {},
     "output_type": "execute_result"
    }
   ],
   "source": [
    "# Let's look at the first key/value.\n",
    "# This is just some descriptive information\n",
    "raw_data['Meta Data']"
   ]
  },
  {
   "cell_type": "code",
   "execution_count": 24,
   "metadata": {},
   "outputs": [
    {
     "data": {
      "text/plain": [
       "dict"
      ]
     },
     "execution_count": 24,
     "metadata": {},
     "output_type": "execute_result"
    }
   ],
   "source": [
    "# The other key/value pair is the actual time series.\n",
    "# This is a dict as well\n",
    "time_series = raw_data['Time Series (5min)']\n",
    "type(time_series)"
   ]
  },
  {
   "cell_type": "code",
   "execution_count": 25,
   "metadata": {},
   "outputs": [
    {
     "data": {
      "text/plain": [
       "3436"
      ]
     },
     "execution_count": 25,
     "metadata": {},
     "output_type": "execute_result"
    }
   ],
   "source": [
    "# How many items are in there?\n",
    "len(time_series)"
   ]
  },
  {
   "cell_type": "code",
   "execution_count": 26,
   "metadata": {},
   "outputs": [
    {
     "name": "stdout",
     "output_type": "stream",
     "text": [
      "2022-11-09 19:50:00: {'1. open': '225.1900', '2. high': '225.2000', '3. low': '225.0200', '4. close': '225.0200', '5. volume': '2025'}\n",
      "2022-11-09 19:45:00: {'1. open': '224.9000', '2. high': '225.2000', '3. low': '224.9000', '4. close': '225.1500', '5. volume': '4828'}\n",
      "2022-11-09 19:40:00: {'1. open': '224.9200', '2. high': '224.9500', '3. low': '224.8900', '4. close': '224.9000', '5. volume': '2399'}\n",
      "2022-11-09 19:35:00: {'1. open': '224.9100', '2. high': '224.9100', '3. low': '224.8800', '4. close': '224.8800', '5. volume': '689'}\n",
      "2022-11-09 19:30:00: {'1. open': '224.8900', '2. high': '224.9200', '3. low': '224.7600', '4. close': '224.8900', '5. volume': '4332'}\n",
      "2022-11-09 19:25:00: {'1. open': '224.7000', '2. high': '224.9900', '3. low': '224.7000', '4. close': '224.9300', '5. volume': '11094'}\n",
      "2022-11-09 19:20:00: {'1. open': '224.7400', '2. high': '224.8000', '3. low': '224.7000', '4. close': '224.7000', '5. volume': '3936'}\n",
      "2022-11-09 19:15:00: {'1. open': '224.8600', '2. high': '224.8600', '3. low': '224.6800', '4. close': '224.7300', '5. volume': '3689'}\n",
      "2022-11-09 19:10:00: {'1. open': '224.7700', '2. high': '224.9800', '3. low': '224.7300', '4. close': '224.9400', '5. volume': '6623'}\n",
      "2022-11-09 19:00:00: {'1. open': '224.8500', '2. high': '224.9300', '3. low': '224.8500', '4. close': '224.9300', '5. volume': '549'}\n"
     ]
    }
   ],
   "source": [
    "# Let's take the first few keys\n",
    "first_ten_keys = list(time_series.keys())[:10]\n",
    "# And see the corresponding values\n",
    "first_ten_items = [f\"{key}: {time_series[key]}\" for key in first_ten_keys ]\n",
    "print(\"\\n\".join(first_ten_items))"
   ]
  },
  {
   "cell_type": "markdown",
   "metadata": {},
   "source": [
    "# Creating a dataframe\n",
    "We select the column with data, and put this into a dataframe. We transpose the result, and the call to `apply(pd.to_numeric)` converts all columns into numbers."
   ]
  },
  {
   "cell_type": "code",
   "execution_count": 27,
   "metadata": {},
   "outputs": [],
   "source": [
    "import pandas as pd"
   ]
  },
  {
   "cell_type": "code",
   "execution_count": 28,
   "metadata": {},
   "outputs": [
    {
     "name": "stdout",
     "output_type": "stream",
     "text": [
      "<class 'pandas.core.frame.DataFrame'>\n",
      "Index: 3436 entries, 2022-11-09 19:50:00 to 2022-10-13 04:05:00\n",
      "Data columns (total 5 columns):\n",
      " #   Column     Non-Null Count  Dtype  \n",
      "---  ------     --------------  -----  \n",
      " 0   1. open    3436 non-null   float64\n",
      " 1   2. high    3436 non-null   float64\n",
      " 2   3. low     3436 non-null   float64\n",
      " 3   4. close   3436 non-null   float64\n",
      " 4   5. volume  3436 non-null   int64  \n",
      "dtypes: float64(4), int64(1)\n",
      "memory usage: 161.1+ KB\n"
     ]
    },
    {
     "data": {
      "text/html": [
       "<div>\n",
       "<style scoped>\n",
       "    .dataframe tbody tr th:only-of-type {\n",
       "        vertical-align: middle;\n",
       "    }\n",
       "\n",
       "    .dataframe tbody tr th {\n",
       "        vertical-align: top;\n",
       "    }\n",
       "\n",
       "    .dataframe thead th {\n",
       "        text-align: right;\n",
       "    }\n",
       "</style>\n",
       "<table border=\"1\" class=\"dataframe\">\n",
       "  <thead>\n",
       "    <tr style=\"text-align: right;\">\n",
       "      <th></th>\n",
       "      <th>1. open</th>\n",
       "      <th>2. high</th>\n",
       "      <th>3. low</th>\n",
       "      <th>4. close</th>\n",
       "      <th>5. volume</th>\n",
       "    </tr>\n",
       "  </thead>\n",
       "  <tbody>\n",
       "    <tr>\n",
       "      <th>2022-11-09 19:50:00</th>\n",
       "      <td>225.19</td>\n",
       "      <td>225.20</td>\n",
       "      <td>225.02</td>\n",
       "      <td>225.02</td>\n",
       "      <td>2025</td>\n",
       "    </tr>\n",
       "    <tr>\n",
       "      <th>2022-11-09 19:45:00</th>\n",
       "      <td>224.90</td>\n",
       "      <td>225.20</td>\n",
       "      <td>224.90</td>\n",
       "      <td>225.15</td>\n",
       "      <td>4828</td>\n",
       "    </tr>\n",
       "    <tr>\n",
       "      <th>2022-11-09 19:40:00</th>\n",
       "      <td>224.92</td>\n",
       "      <td>224.95</td>\n",
       "      <td>224.89</td>\n",
       "      <td>224.90</td>\n",
       "      <td>2399</td>\n",
       "    </tr>\n",
       "    <tr>\n",
       "      <th>2022-11-09 19:35:00</th>\n",
       "      <td>224.91</td>\n",
       "      <td>224.91</td>\n",
       "      <td>224.88</td>\n",
       "      <td>224.88</td>\n",
       "      <td>689</td>\n",
       "    </tr>\n",
       "    <tr>\n",
       "      <th>2022-11-09 19:30:00</th>\n",
       "      <td>224.89</td>\n",
       "      <td>224.92</td>\n",
       "      <td>224.76</td>\n",
       "      <td>224.89</td>\n",
       "      <td>4332</td>\n",
       "    </tr>\n",
       "  </tbody>\n",
       "</table>\n",
       "</div>"
      ],
      "text/plain": [
       "                     1. open  2. high  3. low  4. close  5. volume\n",
       "2022-11-09 19:50:00   225.19   225.20  225.02    225.02       2025\n",
       "2022-11-09 19:45:00   224.90   225.20  224.90    225.15       4828\n",
       "2022-11-09 19:40:00   224.92   224.95  224.89    224.90       2399\n",
       "2022-11-09 19:35:00   224.91   224.91  224.88    224.88        689\n",
       "2022-11-09 19:30:00   224.89   224.92  224.76    224.89       4332"
      ]
     },
     "execution_count": 28,
     "metadata": {},
     "output_type": "execute_result"
    }
   ],
   "source": [
    "data = raw_data['Time Series (5min)']\n",
    "df = pd.DataFrame(data).T.apply(pd.to_numeric)\n",
    "df.info()\n",
    "df.head()"
   ]
  },
  {
   "cell_type": "code",
   "execution_count": null,
   "metadata": {},
   "outputs": [],
   "source": []
  },
  {
   "cell_type": "code",
   "execution_count": 29,
   "metadata": {},
   "outputs": [],
   "source": [
    "# Next we parse the index to create a datetimeindex\n",
    "df.index = pd.DatetimeIndex(df.index)"
   ]
  },
  {
   "cell_type": "code",
   "execution_count": 30,
   "metadata": {},
   "outputs": [],
   "source": [
    "# Let's fix the column names by chopping off the first 3 characters\n",
    "df.rename(columns=lambda s: s[3:], inplace=True)"
   ]
  },
  {
   "cell_type": "code",
   "execution_count": 31,
   "metadata": {},
   "outputs": [
    {
     "name": "stdout",
     "output_type": "stream",
     "text": [
      "<class 'pandas.core.frame.DataFrame'>\n",
      "DatetimeIndex: 3436 entries, 2022-11-09 19:50:00 to 2022-10-13 04:05:00\n",
      "Data columns (total 5 columns):\n",
      " #   Column  Non-Null Count  Dtype  \n",
      "---  ------  --------------  -----  \n",
      " 0   open    3436 non-null   float64\n",
      " 1   high    3436 non-null   float64\n",
      " 2   low     3436 non-null   float64\n",
      " 3   close   3436 non-null   float64\n",
      " 4   volume  3436 non-null   int64  \n",
      "dtypes: float64(4), int64(1)\n",
      "memory usage: 161.1 KB\n"
     ]
    }
   ],
   "source": [
    "df.info()"
   ]
  },
  {
   "cell_type": "code",
   "execution_count": 32,
   "metadata": {},
   "outputs": [
    {
     "data": {
      "text/html": [
       "<div>\n",
       "<style scoped>\n",
       "    .dataframe tbody tr th:only-of-type {\n",
       "        vertical-align: middle;\n",
       "    }\n",
       "\n",
       "    .dataframe tbody tr th {\n",
       "        vertical-align: top;\n",
       "    }\n",
       "\n",
       "    .dataframe thead th {\n",
       "        text-align: right;\n",
       "    }\n",
       "</style>\n",
       "<table border=\"1\" class=\"dataframe\">\n",
       "  <thead>\n",
       "    <tr style=\"text-align: right;\">\n",
       "      <th></th>\n",
       "      <th>open</th>\n",
       "      <th>high</th>\n",
       "      <th>low</th>\n",
       "      <th>close</th>\n",
       "      <th>volume</th>\n",
       "    </tr>\n",
       "  </thead>\n",
       "  <tbody>\n",
       "    <tr>\n",
       "      <th>2022-11-09 19:50:00</th>\n",
       "      <td>225.19</td>\n",
       "      <td>225.20</td>\n",
       "      <td>225.02</td>\n",
       "      <td>225.02</td>\n",
       "      <td>2025</td>\n",
       "    </tr>\n",
       "    <tr>\n",
       "      <th>2022-11-09 19:45:00</th>\n",
       "      <td>224.90</td>\n",
       "      <td>225.20</td>\n",
       "      <td>224.90</td>\n",
       "      <td>225.15</td>\n",
       "      <td>4828</td>\n",
       "    </tr>\n",
       "    <tr>\n",
       "      <th>2022-11-09 19:40:00</th>\n",
       "      <td>224.92</td>\n",
       "      <td>224.95</td>\n",
       "      <td>224.89</td>\n",
       "      <td>224.90</td>\n",
       "      <td>2399</td>\n",
       "    </tr>\n",
       "    <tr>\n",
       "      <th>2022-11-09 19:35:00</th>\n",
       "      <td>224.91</td>\n",
       "      <td>224.91</td>\n",
       "      <td>224.88</td>\n",
       "      <td>224.88</td>\n",
       "      <td>689</td>\n",
       "    </tr>\n",
       "    <tr>\n",
       "      <th>2022-11-09 19:30:00</th>\n",
       "      <td>224.89</td>\n",
       "      <td>224.92</td>\n",
       "      <td>224.76</td>\n",
       "      <td>224.89</td>\n",
       "      <td>4332</td>\n",
       "    </tr>\n",
       "  </tbody>\n",
       "</table>\n",
       "</div>"
      ],
      "text/plain": [
       "                       open    high     low   close  volume\n",
       "2022-11-09 19:50:00  225.19  225.20  225.02  225.02    2025\n",
       "2022-11-09 19:45:00  224.90  225.20  224.90  225.15    4828\n",
       "2022-11-09 19:40:00  224.92  224.95  224.89  224.90    2399\n",
       "2022-11-09 19:35:00  224.91  224.91  224.88  224.88     689\n",
       "2022-11-09 19:30:00  224.89  224.92  224.76  224.89    4332"
      ]
     },
     "execution_count": 32,
     "metadata": {},
     "output_type": "execute_result"
    }
   ],
   "source": [
    "df.head()"
   ]
  },
  {
   "cell_type": "code",
   "execution_count": 33,
   "metadata": {},
   "outputs": [
    {
     "data": {
      "text/plain": [
       "<AxesSubplot:>"
      ]
     },
     "execution_count": 33,
     "metadata": {},
     "output_type": "execute_result"
    },
    {
     "data": {
      "image/png": "[encoded data removed]",
      "text/plain": [
       "<Figure size 432x288 with 1 Axes>"
      ]
     },
     "metadata": {
      "needs_background": "light"
     },
     "output_type": "display_data"
    }
   ],
   "source": [
    "df[['open', 'high', 'low', 'close']].plot()"
   ]
  },
  {
   "cell_type": "markdown",
   "metadata": {},
   "source": [
    "## Resampling\n",
    "Pandas contains lots of functions for working with time series. This is important for this project.\n",
    "\n",
    "See the pandas documentation: https://pandas.pydata.org/pandas-docs/stable/user_guide/timeseries.html\n",
    "\n",
    "See also documentation about datetime properties for series: https://pandas.pydata.org/pandas-docs/stable/reference/series.html#datetimelike-properties\n",
    "\n",
    "And a nice little tutorial about resampling: http://benalexkeen.com/resampling-time-series-data-with-pandas/"
   ]
  },
  {
   "cell_type": "code",
   "execution_count": 34,
   "metadata": {},
   "outputs": [],
   "source": [
    "# Let's take last value of the close column for every business day\n",
    "close_per_day = df.close.resample('B').last()"
   ]
  },
  {
   "cell_type": "code",
   "execution_count": 35,
   "metadata": {},
   "outputs": [
    {
     "data": {
      "text/plain": [
       "<AxesSubplot:>"
      ]
     },
     "execution_count": 35,
     "metadata": {},
     "output_type": "execute_result"
    },
    {
     "data": {
      "image/png": "[encoded data removed]",
      "text/plain": [
       "<Figure size 432x288 with 1 Axes>"
      ]
     },
     "metadata": {
      "needs_background": "light"
     },
     "output_type": "display_data"
    }
   ],
   "source": [
    "close_per_day.plot()"
   ]
  },
  {
   "cell_type": "code",
   "execution_count": null,
   "metadata": {},
   "outputs": [],
   "source": []
  }
 ],
 "metadata": {
  "kernelspec": {
   "display_name": "Python 3 (ipykernel)",
   "language": "python",
   "name": "python3"
  },
  "language_info": {
   "codemirror_mode": {
    "name": "ipython",
    "version": 3
   },
   "file_extension": ".py",
   "mimetype": "text/x-python",
   "name": "python",
   "nbconvert_exporter": "python",
   "pygments_lexer": "ipython3",
   "version": "3.9.12"
  }
 },
 "nbformat": 4,
 "nbformat_minor": 4
}
