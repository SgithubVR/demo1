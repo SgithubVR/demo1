{
 "cells": [
  {
   "cell_type": "code",
   "execution_count": 1,
   "metadata": {},
   "outputs": [],
   "source": [
    "import requests\n",
    "import pandas as pd"
   ]
  },
  {
   "cell_type": "markdown",
   "metadata": {},
   "source": [
    "## First we get the data from the server, see https://www.alphavantage.co/documentation/\n",
    "## We use requests.get() to retrieve it"
   ]
  },
  {
   "cell_type": "code",
   "execution_count": 2,
   "metadata": {},
   "outputs": [],
   "source": [
    "response = requests.get(\"https://www.alphavantage.co/query?function=TIME_SERIES_INTRADAY&symbol=MSFT&interval=5min&outputsize=full&apikey=demo\")\n",
    "\n",
    "# Since we are retrieving stuff from a web service, it's a good idea to check for the return status code\n",
    "# See: https://en.wikipedia.org/wiki/List_of_HTTP_status_codes\n",
    "if response.status_code != 200:\n",
    "    raise ValueError(\"Could not retrieve data, code:\", response.status_code)\n",
    "\n",
    "# The service sends JSON data, we parse that into a Python datastructure    \n",
    "raw_data = response.json()"
   ]
  },
  {
   "cell_type": "code",
   "execution_count": 19,
   "metadata": {},
   "outputs": [
    {
     "data": {
      "text/plain": [
       "dict"
      ]
     },
     "execution_count": 19,
     "metadata": {},
     "output_type": "execute_result"
    }
   ],
   "source": [
    "# Let's look at the raw data\n",
    "type(raw_data)"
   ]
  },
  {
   "cell_type": "code",
   "execution_count": 18,
   "metadata": {},
   "outputs": [
    {
     "data": {
      "text/plain": [
       "dict_keys(['Meta Data', 'Time Series (5min)'])"
      ]
     },
     "execution_count": 18,
     "metadata": {},
     "output_type": "execute_result"
    }
   ],
   "source": [
    "# So it's a dict. what are the keys?\n",
    "raw_data.keys()"
   ]
  },
  {
   "cell_type": "code",
   "execution_count": 4,
   "metadata": {},
   "outputs": [
    {
     "data": {
      "text/plain": [
       "{'1. Information': 'Intraday (5min) open, high, low, close prices and volume',\n",
       " '2. Symbol': 'MSFT',\n",
       " '3. Last Refreshed': '2021-11-23 20:00:00',\n",
       " '4. Interval': '5min',\n",
       " '5. Output Size': 'Full size',\n",
       " '6. Time Zone': 'US/Eastern'}"
      ]
     },
     "execution_count": 4,
     "metadata": {},
     "output_type": "execute_result"
    }
   ],
   "source": [
    "# Let's look at the first key/value.\n",
    "# This is just some descriptive information\n",
    "raw_data['Meta Data']"
   ]
  },
  {
   "cell_type": "code",
   "execution_count": 28,
   "metadata": {},
   "outputs": [
    {
     "data": {
      "text/plain": [
       "dict"
      ]
     },
     "execution_count": 28,
     "metadata": {},
     "output_type": "execute_result"
    }
   ],
   "source": [
    "# The other key/value pair is the actual time series.\n",
    "# This is a dict as well\n",
    "time_series = raw_data['Time Series (5min)']\n",
    "type(time_series)"
   ]
  },
  {
   "cell_type": "code",
   "execution_count": 33,
   "metadata": {},
   "outputs": [
    {
     "data": {
      "text/plain": [
       "3487"
      ]
     },
     "execution_count": 33,
     "metadata": {},
     "output_type": "execute_result"
    }
   ],
   "source": [
    "# How many items are in there?\n",
    "len(time_series)"
   ]
  },
  {
   "cell_type": "code",
   "execution_count": 37,
   "metadata": {},
   "outputs": [
    {
     "name": "stdout",
     "output_type": "stream",
     "text": [
      "2021-11-23 20:00:00: {'1. open': '337.8900', '2. high': '337.8900', '3. low': '337.7000', '4. close': '337.7000', '5. volume': '2638'}\n",
      "2021-11-23 19:55:00: {'1. open': '337.8700', '2. high': '337.8900', '3. low': '337.7600', '4. close': '337.8900', '5. volume': '1205'}\n",
      "2021-11-23 19:50:00: {'1. open': '337.6500', '2. high': '337.8900', '3. low': '337.6500', '4. close': '337.6700', '5. volume': '1481'}\n",
      "2021-11-23 19:45:00: {'1. open': '337.6500', '2. high': '337.6500', '3. low': '337.5000', '4. close': '337.5000', '5. volume': '294'}\n",
      "2021-11-23 19:40:00: {'1. open': '337.5000', '2. high': '337.5000', '3. low': '337.5000', '4. close': '337.5000', '5. volume': '134'}\n",
      "2021-11-23 19:25:00: {'1. open': '337.7200', '2. high': '337.7500', '3. low': '337.7200', '4. close': '337.7500', '5. volume': '525'}\n",
      "2021-11-23 19:20:00: {'1. open': '337.6800', '2. high': '337.6900', '3. low': '337.6800', '4. close': '337.6800', '5. volume': '2469'}\n",
      "2021-11-23 19:05:00: {'1. open': '337.4000', '2. high': '337.4000', '3. low': '337.4000', '4. close': '337.4000', '5. volume': '537'}\n",
      "2021-11-23 19:00:00: {'1. open': '337.2700', '2. high': '337.3500', '3. low': '337.2700', '4. close': '337.3500', '5. volume': '750'}\n",
      "2021-11-23 18:50:00: {'1. open': '337.3100', '2. high': '337.3100', '3. low': '337.3100', '4. close': '337.3100', '5. volume': '214'}\n"
     ]
    }
   ],
   "source": [
    "# Let's take the first few keys\n",
    "first_ten_keys = list(time_series.keys())[:10]\n",
    "# And see the corresponding values\n",
    "first_ten_items = [f\"{key}: {time_series[key]}\" for key in first_ten_keys ]\n",
    "print(\"\\n\".join(first_ten_items))"
   ]
  },
  {
   "cell_type": "markdown",
   "metadata": {},
   "source": [
    "# Creating a dataframe\n",
    "We select the column with data, and put this into a dataframe. We transpose the result, and the call to `apply(pd.to_numeric)` converts all columns into numbers."
   ]
  },
  {
   "cell_type": "code",
   "execution_count": 39,
   "metadata": {},
   "outputs": [
    {
     "name": "stdout",
     "output_type": "stream",
     "text": [
      "<class 'pandas.core.frame.DataFrame'>\n",
      "Index: 3487 entries, 2021-11-23 20:00:00 to 2021-10-26 04:05:00\n",
      "Data columns (total 5 columns):\n",
      " #   Column     Non-Null Count  Dtype  \n",
      "---  ------     --------------  -----  \n",
      " 0   1. open    3487 non-null   float64\n",
      " 1   2. high    3487 non-null   float64\n",
      " 2   3. low     3487 non-null   float64\n",
      " 3   4. close   3487 non-null   float64\n",
      " 4   5. volume  3487 non-null   int64  \n",
      "dtypes: float64(4), int64(1)\n",
      "memory usage: 163.5+ KB\n"
     ]
    },
    {
     "data": {
      "text/html": [
       "<div>\n",
       "<style scoped>\n",
       "    .dataframe tbody tr th:only-of-type {\n",
       "        vertical-align: middle;\n",
       "    }\n",
       "\n",
       "    .dataframe tbody tr th {\n",
       "        vertical-align: top;\n",
       "    }\n",
       "\n",
       "    .dataframe thead th {\n",
       "        text-align: right;\n",
       "    }\n",
       "</style>\n",
       "<table border=\"1\" class=\"dataframe\">\n",
       "  <thead>\n",
       "    <tr style=\"text-align: right;\">\n",
       "      <th></th>\n",
       "      <th>1. open</th>\n",
       "      <th>2. high</th>\n",
       "      <th>3. low</th>\n",
       "      <th>4. close</th>\n",
       "      <th>5. volume</th>\n",
       "    </tr>\n",
       "  </thead>\n",
       "  <tbody>\n",
       "    <tr>\n",
       "      <th>2021-11-23 20:00:00</th>\n",
       "      <td>337.89</td>\n",
       "      <td>337.89</td>\n",
       "      <td>337.70</td>\n",
       "      <td>337.70</td>\n",
       "      <td>2638</td>\n",
       "    </tr>\n",
       "    <tr>\n",
       "      <th>2021-11-23 19:55:00</th>\n",
       "      <td>337.87</td>\n",
       "      <td>337.89</td>\n",
       "      <td>337.76</td>\n",
       "      <td>337.89</td>\n",
       "      <td>1205</td>\n",
       "    </tr>\n",
       "    <tr>\n",
       "      <th>2021-11-23 19:50:00</th>\n",
       "      <td>337.65</td>\n",
       "      <td>337.89</td>\n",
       "      <td>337.65</td>\n",
       "      <td>337.67</td>\n",
       "      <td>1481</td>\n",
       "    </tr>\n",
       "    <tr>\n",
       "      <th>2021-11-23 19:45:00</th>\n",
       "      <td>337.65</td>\n",
       "      <td>337.65</td>\n",
       "      <td>337.50</td>\n",
       "      <td>337.50</td>\n",
       "      <td>294</td>\n",
       "    </tr>\n",
       "    <tr>\n",
       "      <th>2021-11-23 19:40:00</th>\n",
       "      <td>337.50</td>\n",
       "      <td>337.50</td>\n",
       "      <td>337.50</td>\n",
       "      <td>337.50</td>\n",
       "      <td>134</td>\n",
       "    </tr>\n",
       "  </tbody>\n",
       "</table>\n",
       "</div>"
      ],
      "text/plain": [
       "                     1. open  2. high  3. low  4. close  5. volume\n",
       "2021-11-23 20:00:00   337.89   337.89  337.70    337.70       2638\n",
       "2021-11-23 19:55:00   337.87   337.89  337.76    337.89       1205\n",
       "2021-11-23 19:50:00   337.65   337.89  337.65    337.67       1481\n",
       "2021-11-23 19:45:00   337.65   337.65  337.50    337.50        294\n",
       "2021-11-23 19:40:00   337.50   337.50  337.50    337.50        134"
      ]
     },
     "execution_count": 39,
     "metadata": {},
     "output_type": "execute_result"
    }
   ],
   "source": [
    "data = raw_data['Time Series (5min)']\n",
    "df = pd.DataFrame(data).T.apply(pd.to_numeric)\n",
    "df.info()\n",
    "df.head()"
   ]
  },
  {
   "cell_type": "code",
   "execution_count": 41,
   "metadata": {},
   "outputs": [],
   "source": [
    "# Next we parse the index to create a datetimeindex\n",
    "df.index = pd.DatetimeIndex(df.index)"
   ]
  },
  {
   "cell_type": "code",
   "execution_count": 42,
   "metadata": {},
   "outputs": [],
   "source": [
    "# Let's fix the column names by chopping off the first 3 characters\n",
    "df.rename(columns=lambda s: s[3:], inplace=True)"
   ]
  },
  {
   "cell_type": "code",
   "execution_count": 43,
   "metadata": {},
   "outputs": [
    {
     "name": "stdout",
     "output_type": "stream",
     "text": [
      "<class 'pandas.core.frame.DataFrame'>\n",
      "DatetimeIndex: 3487 entries, 2021-11-23 20:00:00 to 2021-10-26 04:05:00\n",
      "Data columns (total 5 columns):\n",
      " #   Column  Non-Null Count  Dtype  \n",
      "---  ------  --------------  -----  \n",
      " 0   open    3487 non-null   float64\n",
      " 1   high    3487 non-null   float64\n",
      " 2   low     3487 non-null   float64\n",
      " 3   close   3487 non-null   float64\n",
      " 4   volume  3487 non-null   int64  \n",
      "dtypes: float64(4), int64(1)\n",
      "memory usage: 163.5 KB\n"
     ]
    }
   ],
   "source": [
    "df.info()"
   ]
  },
  {
   "cell_type": "code",
   "execution_count": 44,
   "metadata": {},
   "outputs": [
    {
     "data": {
      "text/html": [
       "<div>\n",
       "<style scoped>\n",
       "    .dataframe tbody tr th:only-of-type {\n",
       "        vertical-align: middle;\n",
       "    }\n",
       "\n",
       "    .dataframe tbody tr th {\n",
       "        vertical-align: top;\n",
       "    }\n",
       "\n",
       "    .dataframe thead th {\n",
       "        text-align: right;\n",
       "    }\n",
       "</style>\n",
       "<table border=\"1\" class=\"dataframe\">\n",
       "  <thead>\n",
       "    <tr style=\"text-align: right;\">\n",
       "      <th></th>\n",
       "      <th>open</th>\n",
       "      <th>high</th>\n",
       "      <th>low</th>\n",
       "      <th>close</th>\n",
       "      <th>volume</th>\n",
       "    </tr>\n",
       "  </thead>\n",
       "  <tbody>\n",
       "    <tr>\n",
       "      <th>2021-11-23 20:00:00</th>\n",
       "      <td>337.89</td>\n",
       "      <td>337.89</td>\n",
       "      <td>337.70</td>\n",
       "      <td>337.70</td>\n",
       "      <td>2638</td>\n",
       "    </tr>\n",
       "    <tr>\n",
       "      <th>2021-11-23 19:55:00</th>\n",
       "      <td>337.87</td>\n",
       "      <td>337.89</td>\n",
       "      <td>337.76</td>\n",
       "      <td>337.89</td>\n",
       "      <td>1205</td>\n",
       "    </tr>\n",
       "    <tr>\n",
       "      <th>2021-11-23 19:50:00</th>\n",
       "      <td>337.65</td>\n",
       "      <td>337.89</td>\n",
       "      <td>337.65</td>\n",
       "      <td>337.67</td>\n",
       "      <td>1481</td>\n",
       "    </tr>\n",
       "    <tr>\n",
       "      <th>2021-11-23 19:45:00</th>\n",
       "      <td>337.65</td>\n",
       "      <td>337.65</td>\n",
       "      <td>337.50</td>\n",
       "      <td>337.50</td>\n",
       "      <td>294</td>\n",
       "    </tr>\n",
       "    <tr>\n",
       "      <th>2021-11-23 19:40:00</th>\n",
       "      <td>337.50</td>\n",
       "      <td>337.50</td>\n",
       "      <td>337.50</td>\n",
       "      <td>337.50</td>\n",
       "      <td>134</td>\n",
       "    </tr>\n",
       "  </tbody>\n",
       "</table>\n",
       "</div>"
      ],
      "text/plain": [
       "                       open    high     low   close  volume\n",
       "2021-11-23 20:00:00  337.89  337.89  337.70  337.70    2638\n",
       "2021-11-23 19:55:00  337.87  337.89  337.76  337.89    1205\n",
       "2021-11-23 19:50:00  337.65  337.89  337.65  337.67    1481\n",
       "2021-11-23 19:45:00  337.65  337.65  337.50  337.50     294\n",
       "2021-11-23 19:40:00  337.50  337.50  337.50  337.50     134"
      ]
     },
     "execution_count": 44,
     "metadata": {},
     "output_type": "execute_result"
    }
   ],
   "source": [
    "df.head()"
   ]
  },
  {
   "cell_type": "code",
   "execution_count": 48,
   "metadata": {},
   "outputs": [
    {
     "data": {
      "text/plain": [
       "<AxesSubplot:>"
      ]
     },
     "execution_count": 48,
     "metadata": {},
     "output_type": "execute_result"
    },
    {
     "data": {
      "image/png": "[encoded data removed]",
      "text/plain": [
       "<Figure size 432x288 with 1 Axes>"
      ]
     },
     "metadata": {
      "needs_background": "light"
     },
     "output_type": "display_data"
    }
   ],
   "source": [
    "df[['open', 'high', 'low', 'close']].plot()"
   ]
  },
  {
   "cell_type": "markdown",
   "metadata": {},
   "source": [
    "## Resampling\n",
    "Pandas contains lots of functions for working with time series. This is important for this project.\n",
    "\n",
    "See the pandas documentation: https://pandas.pydata.org/pandas-docs/stable/user_guide/timeseries.html\n",
    "\n",
    "See also documentation about datetime properties for series: https://pandas.pydata.org/pandas-docs/stable/reference/series.html#datetimelike-properties\n",
    "\n",
    "And a nice little tutorial about resampling: http://benalexkeen.com/resampling-time-series-data-with-pandas/"
   ]
  },
  {
   "cell_type": "code",
   "execution_count": 12,
   "metadata": {},
   "outputs": [],
   "source": [
    "# Let's take last value of the close column for every business day\n",
    "close_per_day = df.close.resample('B').last()"
   ]
  },
  {
   "cell_type": "code",
   "execution_count": 13,
   "metadata": {},
   "outputs": [
    {
     "data": {
      "text/plain": [
       "<AxesSubplot:>"
      ]
     },
     "execution_count": 13,
     "metadata": {},
     "output_type": "execute_result"
    },
    {
     "data": {
      "image/png": "[encoded data removed]",
      "text/plain": [
       "<Figure size 432x288 with 1 Axes>"
      ]
     },
     "metadata": {
      "needs_background": "light"
     },
     "output_type": "display_data"
    }
   ],
   "source": [
    "close_per_day.plot()"
   ]
  },
  {
   "cell_type": "code",
   "execution_count": null,
   "metadata": {},
   "outputs": [],
   "source": []
  }
 ],
 "metadata": {
  "kernelspec": {
   "display_name": "Python 3",
   "language": "python",
   "name": "python3"
  },
  "language_info": {
   "codemirror_mode": {
    "name": "ipython",
    "version": 3
   },
   "file_extension": ".py",
   "mimetype": "text/x-python",
   "name": "python",
   "nbconvert_exporter": "python",
   "pygments_lexer": "ipython3",
   "version": "3.8.8"
  }
 },
 "nbformat": 4,
 "nbformat_minor": 4
}
